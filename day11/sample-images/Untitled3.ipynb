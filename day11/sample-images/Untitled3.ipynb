{
 "cells": [
  {
   "cell_type": "code",
   "execution_count": 1,
   "metadata": {
    "collapsed": false
   },
   "outputs": [
    {
     "name": "stderr",
     "output_type": "stream",
     "text": [
      "C:\\Users\\HP DEMO\\AppData\\Local\\Enthought\\Canopy\\edm\\envs\\User\\lib\\site-packages\\statsmodels\\compat\\pandas.py:56: FutureWarning: The pandas.core.datetools module is deprecated and will be removed in a future version. Please use the pandas.tseries module instead.\n",
      "  from pandas.core import datetools\n",
      "C:\\Users\\HP DEMO\\AppData\\Local\\Enthought\\Canopy\\edm\\envs\\User\\lib\\site-packages\\sklearn\\cross_validation.py:44: DeprecationWarning: This module was deprecated in version 0.18 in favor of the model_selection module into which all the refactored classes and functions are moved. Also note that the interface of the new CV iterators are different from that of this module. This module will be removed in 0.20.\n",
      "  \"This module will be removed in 0.20.\", DeprecationWarning)\n"
     ]
    },
    {
     "data": {
      "text/html": [
       "<div>\n",
       "<style>\n",
       "    .dataframe thead tr:only-child th {\n",
       "        text-align: right;\n",
       "    }\n",
       "\n",
       "    .dataframe thead th {\n",
       "        text-align: left;\n",
       "    }\n",
       "\n",
       "    .dataframe tbody tr th {\n",
       "        vertical-align: top;\n",
       "    }\n",
       "</style>\n",
       "<table border=\"1\" class=\"dataframe\">\n",
       "  <thead>\n",
       "    <tr style=\"text-align: right;\">\n",
       "      <th></th>\n",
       "      <th>NAME</th>\n",
       "      <th>PERCENTAGE</th>\n",
       "      <th>BACKLOG</th>\n",
       "      <th>INTERNSHIP</th>\n",
       "      <th>FIRSTROUND</th>\n",
       "      <th>COMMUNICATIONSKILLLS</th>\n",
       "      <th>Hired</th>\n",
       "    </tr>\n",
       "  </thead>\n",
       "  <tbody>\n",
       "    <tr>\n",
       "      <th>0</th>\n",
       "      <td>Apaar Gupta</td>\n",
       "      <td>99</td>\n",
       "      <td>0</td>\n",
       "      <td>3</td>\n",
       "      <td>90</td>\n",
       "      <td>100</td>\n",
       "      <td>1</td>\n",
       "    </tr>\n",
       "    <tr>\n",
       "      <th>1</th>\n",
       "      <td>Aastha Khanna</td>\n",
       "      <td>92</td>\n",
       "      <td>0</td>\n",
       "      <td>3</td>\n",
       "      <td>68</td>\n",
       "      <td>80</td>\n",
       "      <td>1</td>\n",
       "    </tr>\n",
       "    <tr>\n",
       "      <th>2</th>\n",
       "      <td>Yogita Rana</td>\n",
       "      <td>84</td>\n",
       "      <td>3</td>\n",
       "      <td>2</td>\n",
       "      <td>69</td>\n",
       "      <td>80</td>\n",
       "      <td>1</td>\n",
       "    </tr>\n",
       "    <tr>\n",
       "      <th>3</th>\n",
       "      <td>Kush</td>\n",
       "      <td>67</td>\n",
       "      <td>2</td>\n",
       "      <td>2</td>\n",
       "      <td>23</td>\n",
       "      <td>60</td>\n",
       "      <td>0</td>\n",
       "    </tr>\n",
       "    <tr>\n",
       "      <th>4</th>\n",
       "      <td>Pulkit Mittal</td>\n",
       "      <td>57</td>\n",
       "      <td>0</td>\n",
       "      <td>2</td>\n",
       "      <td>78</td>\n",
       "      <td>60</td>\n",
       "      <td>0</td>\n",
       "    </tr>\n",
       "    <tr>\n",
       "      <th>5</th>\n",
       "      <td>Gaurav Gambhir</td>\n",
       "      <td>85</td>\n",
       "      <td>0</td>\n",
       "      <td>1</td>\n",
       "      <td>86</td>\n",
       "      <td>80</td>\n",
       "      <td>1</td>\n",
       "    </tr>\n",
       "    <tr>\n",
       "      <th>6</th>\n",
       "      <td>Shruti Jha</td>\n",
       "      <td>82</td>\n",
       "      <td>0</td>\n",
       "      <td>3</td>\n",
       "      <td>61</td>\n",
       "      <td>100</td>\n",
       "      <td>1</td>\n",
       "    </tr>\n",
       "    <tr>\n",
       "      <th>7</th>\n",
       "      <td>Ayush Vishwakarma</td>\n",
       "      <td>47</td>\n",
       "      <td>0</td>\n",
       "      <td>2</td>\n",
       "      <td>32</td>\n",
       "      <td>80</td>\n",
       "      <td>0</td>\n",
       "    </tr>\n",
       "    <tr>\n",
       "      <th>8</th>\n",
       "      <td>Divyanshu</td>\n",
       "      <td>62</td>\n",
       "      <td>2</td>\n",
       "      <td>1</td>\n",
       "      <td>56</td>\n",
       "      <td>60</td>\n",
       "      <td>1</td>\n",
       "    </tr>\n",
       "    <tr>\n",
       "      <th>9</th>\n",
       "      <td>Ashish</td>\n",
       "      <td>67</td>\n",
       "      <td>1</td>\n",
       "      <td>0</td>\n",
       "      <td>45</td>\n",
       "      <td>60</td>\n",
       "      <td>1</td>\n",
       "    </tr>\n",
       "  </tbody>\n",
       "</table>\n",
       "</div>"
      ],
      "text/plain": [
       "                NAME  PERCENTAGE  BACKLOG  INTERNSHIP  FIRSTROUND  \\\n",
       "0        Apaar Gupta          99        0           3          90   \n",
       "1      Aastha Khanna          92        0           3          68   \n",
       "2        Yogita Rana          84        3           2          69   \n",
       "3               Kush          67        2           2          23   \n",
       "4      Pulkit Mittal          57        0           2          78   \n",
       "5     Gaurav Gambhir          85        0           1          86   \n",
       "6         Shruti Jha          82        0           3          61   \n",
       "7  Ayush Vishwakarma          47        0           2          32   \n",
       "8          Divyanshu          62        2           1          56   \n",
       "9             Ashish          67        1           0          45   \n",
       "\n",
       "   COMMUNICATIONSKILLLS  Hired  \n",
       "0                   100      1  \n",
       "1                    80      1  \n",
       "2                    80      1  \n",
       "3                    60      0  \n",
       "4                    60      0  \n",
       "5                    80      1  \n",
       "6                   100      1  \n",
       "7                    80      0  \n",
       "8                    60      1  \n",
       "9                    60      1  "
      ]
     },
     "execution_count": 1,
     "metadata": {},
     "output_type": "execute_result"
    }
   ],
   "source": [
    "import numpy as np\n",
    "import pandas as pd\n",
    "import statsmodels.api as sm\n",
    "import matplotlib.pyplot as plt\n",
    "from patsy import dmatrices\n",
    "from sklearn.linear_model import LogisticRegression\n",
    "from sklearn.cross_validation import train_test_split\n",
    "from sklearn import metrics\n",
    "from sklearn.cross_validation import cross_val_score\n",
    "\n",
    "\n",
    "df=pd.read_csv(\"PerpData - PerpData.csv\")\n",
    "df.head(10)"
   ]
  },
  {
   "cell_type": "code",
   "execution_count": 2,
   "metadata": {
    "collapsed": true
   },
   "outputs": [],
   "source": [
    "X=df[['PERCENTAGE','BACKLOG','INTERNSHIP','FIRSTROUND','COMMUNICATIONSKILLLS']]\n",
    "y=df[['Hired']]"
   ]
  },
  {
   "cell_type": "code",
   "execution_count": 3,
   "metadata": {
    "collapsed": false
   },
   "outputs": [
    {
     "name": "stderr",
     "output_type": "stream",
     "text": [
      "C:\\Users\\HP DEMO\\AppData\\Local\\Enthought\\Canopy\\edm\\envs\\User\\lib\\site-packages\\sklearn\\utils\\validation.py:526: DataConversionWarning: A column-vector y was passed when a 1d array was expected. Please change the shape of y to (n_samples, ), for example using ravel().\n",
      "  y = column_or_1d(y, warn=True)\n"
     ]
    },
    {
     "data": {
      "text/plain": [
       "LogisticRegression(C=1.0, class_weight=None, dual=False, fit_intercept=True,\n",
       "          intercept_scaling=1, max_iter=100, multi_class='ovr', n_jobs=1,\n",
       "          penalty='l2', random_state=None, solver='liblinear', tol=0.0001,\n",
       "          verbose=0, warm_start=False)"
      ]
     },
     "execution_count": 3,
     "metadata": {},
     "output_type": "execute_result"
    }
   ],
   "source": [
    "model=LogisticRegression()\n",
    "model.fit(X,y)"
   ]
  },
  {
   "cell_type": "code",
   "execution_count": 4,
   "metadata": {
    "collapsed": false
   },
   "outputs": [
    {
     "name": "stderr",
     "output_type": "stream",
     "text": [
      "C:\\Users\\HP DEMO\\AppData\\Local\\Enthought\\Canopy\\edm\\envs\\User\\lib\\site-packages\\sklearn\\utils\\validation.py:526: DataConversionWarning: A column-vector y was passed when a 1d array was expected. Please change the shape of y to (n_samples, ), for example using ravel().\n",
      "  y = column_or_1d(y, warn=True)\n"
     ]
    },
    {
     "data": {
      "text/plain": [
       "LogisticRegression(C=1.0, class_weight=None, dual=False, fit_intercept=True,\n",
       "          intercept_scaling=1, max_iter=100, multi_class='ovr', n_jobs=1,\n",
       "          penalty='l2', random_state=None, solver='liblinear', tol=0.0001,\n",
       "          verbose=0, warm_start=False)"
      ]
     },
     "execution_count": 4,
     "metadata": {},
     "output_type": "execute_result"
    }
   ],
   "source": [
    "# evaluate the model by splitting into train test sets\n",
    "X_train, X_test, y_train , y_test= train_test_split(X,y,test_size=0.3, random_state=0)\n",
    "model2=LogisticRegression()\n",
    "model2.fit(X_train, y_train)"
   ]
  },
  {
   "cell_type": "code",
   "execution_count": 6,
   "metadata": {
    "collapsed": false
   },
   "outputs": [
    {
     "name": "stdout",
     "output_type": "stream",
     "text": [
      "[0 1 1 1 1 0 1 1 1 1 0 1 1 1 0 1 1 1 1 1 1 0 1 1 0 1 1 1 1 0 0 0 1 1 1 0 1\n",
      " 1 1 0 0 0 0 0 0 1 1 1 1 1 1 1 1 1 0 1 1 1 0 1 1 1 1 1 1 0 1 1 0 1 1 0 0 1\n",
      " 1 0 1 1 1 1 0 1 1 1 1 0 1 1 0 1 0 1 1 1 1 0 1 0 0 0 1]\n"
     ]
    }
   ],
   "source": [
    "#predict class tables for the test set\n",
    "\n",
    "predicted=model.predict(X_test)\n",
    "print(predicted)"
   ]
  },
  {
   "cell_type": "code",
   "execution_count": 7,
   "metadata": {
    "collapsed": false
   },
   "outputs": [
    {
     "name": "stdout",
     "output_type": "stream",
     "text": [
      "[[ 0.55289595  0.44710405]\n",
      " [ 0.32048461  0.67951539]\n",
      " [ 0.4742343   0.5257657 ]\n",
      " [ 0.08633615  0.91366385]\n",
      " [ 0.35364859  0.64635141]\n",
      " [ 0.99490683  0.00509317]\n",
      " [ 0.2057806   0.7942194 ]\n",
      " [ 0.11517826  0.88482174]\n",
      " [ 0.15734357  0.84265643]\n",
      " [ 0.35481987  0.64518013]\n",
      " [ 0.87421035  0.12578965]\n",
      " [ 0.02252032  0.97747968]\n",
      " [ 0.2457757   0.7542243 ]\n",
      " [ 0.24427453  0.75572547]\n",
      " [ 0.81390699  0.18609301]\n",
      " [ 0.385255    0.614745  ]\n",
      " [ 0.03306991  0.96693009]\n",
      " [ 0.17793094  0.82206906]\n",
      " [ 0.05940275  0.94059725]\n",
      " [ 0.09910918  0.90089082]\n",
      " [ 0.10812026  0.89187974]\n",
      " [ 0.60011303  0.39988697]\n",
      " [ 0.20038803  0.79961197]\n",
      " [ 0.35678253  0.64321747]\n",
      " [ 0.6551843   0.3448157 ]\n",
      " [ 0.08262104  0.91737896]\n",
      " [ 0.2103775   0.7896225 ]\n",
      " [ 0.12857206  0.87142794]\n",
      " [ 0.4166465   0.5833535 ]\n",
      " [ 0.59287805  0.40712195]\n",
      " [ 0.41688862  0.58311138]\n",
      " [ 0.48291268  0.51708732]\n",
      " [ 0.05553159  0.94446841]\n",
      " [ 0.40743457  0.59256543]\n",
      " [ 0.02358639  0.97641361]\n",
      " [ 0.64641063  0.35358937]\n",
      " [ 0.22329995  0.77670005]\n",
      " [ 0.1098715   0.8901285 ]\n",
      " [ 0.16480307  0.83519693]\n",
      " [ 0.55289595  0.44710405]\n",
      " [ 0.64488731  0.35511269]\n",
      " [ 0.7683025   0.2316975 ]\n",
      " [ 0.90302808  0.09697192]\n",
      " [ 0.7804504   0.2195496 ]\n",
      " [ 0.52190376  0.47809624]\n",
      " [ 0.37256947  0.62743053]\n",
      " [ 0.09440546  0.90559454]\n",
      " [ 0.17839583  0.82160417]\n",
      " [ 0.10992677  0.89007323]\n",
      " [ 0.21400291  0.78599709]\n",
      " [ 0.0384147   0.9615853 ]\n",
      " [ 0.02297944  0.97702056]\n",
      " [ 0.08270256  0.91729744]\n",
      " [ 0.178174    0.821826  ]\n",
      " [ 0.66416747  0.33583253]\n",
      " [ 0.02777571  0.97222429]\n",
      " [ 0.40371641  0.59628359]\n",
      " [ 0.4742343   0.5257657 ]\n",
      " [ 0.67909522  0.32090478]\n",
      " [ 0.47386104  0.52613896]\n",
      " [ 0.19816302  0.80183698]\n",
      " [ 0.36136711  0.63863289]\n",
      " [ 0.14457765  0.85542235]\n",
      " [ 0.31054525  0.68945475]\n",
      " [ 0.47065814  0.52934186]\n",
      " [ 0.52190376  0.47809624]\n",
      " [ 0.15961759  0.84038241]\n",
      " [ 0.1098715   0.8901285 ]\n",
      " [ 0.53566911  0.46433089]\n",
      " [ 0.12773275  0.87226725]\n",
      " [ 0.41761363  0.58238637]\n",
      " [ 0.90070119  0.09929881]\n",
      " [ 0.49610477  0.50389523]\n",
      " [ 0.21655234  0.78344766]\n",
      " [ 0.07353122  0.92646878]\n",
      " [ 0.69702828  0.30297172]\n",
      " [ 0.03920957  0.96079043]\n",
      " [ 0.09042133  0.90957867]\n",
      " [ 0.05763573  0.94236427]\n",
      " [ 0.30535748  0.69464252]\n",
      " [ 0.76967237  0.23032763]\n",
      " [ 0.43595323  0.56404677]\n",
      " [ 0.14455926  0.85544074]\n",
      " [ 0.32284274  0.67715726]\n",
      " [ 0.39628418  0.60371582]\n",
      " [ 0.70392169  0.29607831]\n",
      " [ 0.12347842  0.87652158]\n",
      " [ 0.03404983  0.96595017]\n",
      " [ 0.55730006  0.44269994]\n",
      " [ 0.19593222  0.80406778]\n",
      " [ 0.49695739  0.50304261]\n",
      " [ 0.04776191  0.95223809]\n",
      " [ 0.22329995  0.77670005]\n",
      " [ 0.08225608  0.91774392]\n",
      " [ 0.15033313  0.84966687]\n",
      " [ 0.754056    0.245944  ]\n",
      " [ 0.21910367  0.78089633]\n",
      " [ 0.98571408  0.01428592]\n",
      " [ 0.54726088  0.45273912]\n",
      " [ 0.68437576  0.31562424]\n",
      " [ 0.05255683  0.94744317]]\n"
     ]
    }
   ],
   "source": [
    "# generate class probabilities\n",
    "\n",
    "probs=model2.predict_proba(X_test)\n",
    "print(probs)"
   ]
  },
  {
   "cell_type": "code",
   "execution_count": 8,
   "metadata": {
    "collapsed": false
   },
   "outputs": [
    {
     "data": {
      "text/plain": [
       "array([[ 0.09676155,  0.90323845]])"
      ]
     },
     "execution_count": 8,
     "metadata": {},
     "output_type": "execute_result"
    }
   ],
   "source": [
    "model.predict_proba(np.array([90,1,3,80,100]).reshape(1,-1))"
   ]
  },
  {
   "cell_type": "code",
   "execution_count": 9,
   "metadata": {
    "collapsed": false
   },
   "outputs": [
    {
     "data": {
      "text/plain": [
       "array([[ 0.9770576,  0.0229424]])"
      ]
     },
     "execution_count": 9,
     "metadata": {},
     "output_type": "execute_result"
    }
   ],
   "source": [
    "model.predict_proba(np.array([40,4,0,50,60]).reshape(1,-1))"
   ]
  }
 ],
 "metadata": {
  "kernelspec": {
   "display_name": "Python 3",
   "language": "python",
   "name": "python3"
  },
  "language_info": {
   "codemirror_mode": {
    "name": "ipython",
    "version": 3
   },
   "file_extension": ".py",
   "mimetype": "text/x-python",
   "name": "python",
   "nbconvert_exporter": "python",
   "pygments_lexer": "ipython3",
   "version": "3.5.2"
  }
 },
 "nbformat": 4,
 "nbformat_minor": 2
}
