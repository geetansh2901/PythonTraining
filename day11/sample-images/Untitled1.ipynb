{
 "cells": [
  {
   "cell_type": "code",
   "execution_count": 1,
   "metadata": {
    "collapsed": false,
    "deletable": true,
    "editable": true
   },
   "outputs": [
    {
     "data": {
      "text/html": [
       "<div>\n",
       "<style>\n",
       "    .dataframe thead tr:only-child th {\n",
       "        text-align: right;\n",
       "    }\n",
       "\n",
       "    .dataframe thead th {\n",
       "        text-align: left;\n",
       "    }\n",
       "\n",
       "    .dataframe tbody tr th {\n",
       "        vertical-align: top;\n",
       "    }\n",
       "</style>\n",
       "<table border=\"1\" class=\"dataframe\">\n",
       "  <thead>\n",
       "    <tr style=\"text-align: right;\">\n",
       "      <th></th>\n",
       "      <th>NAME</th>\n",
       "      <th>PERCENTAGE</th>\n",
       "      <th>BACKLOG</th>\n",
       "      <th>INTERNSHIP</th>\n",
       "      <th>FIRSTROUND</th>\n",
       "      <th>COMMUNICATIONSKILLLS</th>\n",
       "      <th>Hired</th>\n",
       "    </tr>\n",
       "  </thead>\n",
       "  <tbody>\n",
       "    <tr>\n",
       "      <th>0</th>\n",
       "      <td>Apaar Gupta</td>\n",
       "      <td>99</td>\n",
       "      <td>0</td>\n",
       "      <td>3</td>\n",
       "      <td>90</td>\n",
       "      <td>100</td>\n",
       "      <td>1</td>\n",
       "    </tr>\n",
       "    <tr>\n",
       "      <th>1</th>\n",
       "      <td>Aastha Khanna</td>\n",
       "      <td>92</td>\n",
       "      <td>0</td>\n",
       "      <td>3</td>\n",
       "      <td>68</td>\n",
       "      <td>80</td>\n",
       "      <td>1</td>\n",
       "    </tr>\n",
       "    <tr>\n",
       "      <th>2</th>\n",
       "      <td>Yogita Rana</td>\n",
       "      <td>84</td>\n",
       "      <td>3</td>\n",
       "      <td>2</td>\n",
       "      <td>69</td>\n",
       "      <td>80</td>\n",
       "      <td>1</td>\n",
       "    </tr>\n",
       "    <tr>\n",
       "      <th>3</th>\n",
       "      <td>Kush</td>\n",
       "      <td>67</td>\n",
       "      <td>2</td>\n",
       "      <td>2</td>\n",
       "      <td>23</td>\n",
       "      <td>60</td>\n",
       "      <td>0</td>\n",
       "    </tr>\n",
       "    <tr>\n",
       "      <th>4</th>\n",
       "      <td>Pulkit Mittal</td>\n",
       "      <td>57</td>\n",
       "      <td>0</td>\n",
       "      <td>2</td>\n",
       "      <td>78</td>\n",
       "      <td>60</td>\n",
       "      <td>0</td>\n",
       "    </tr>\n",
       "    <tr>\n",
       "      <th>5</th>\n",
       "      <td>Gaurav Gambhir</td>\n",
       "      <td>85</td>\n",
       "      <td>0</td>\n",
       "      <td>1</td>\n",
       "      <td>86</td>\n",
       "      <td>80</td>\n",
       "      <td>1</td>\n",
       "    </tr>\n",
       "    <tr>\n",
       "      <th>6</th>\n",
       "      <td>Shruti Jha</td>\n",
       "      <td>82</td>\n",
       "      <td>0</td>\n",
       "      <td>3</td>\n",
       "      <td>61</td>\n",
       "      <td>100</td>\n",
       "      <td>1</td>\n",
       "    </tr>\n",
       "    <tr>\n",
       "      <th>7</th>\n",
       "      <td>Ayush Vishwakarma</td>\n",
       "      <td>47</td>\n",
       "      <td>0</td>\n",
       "      <td>2</td>\n",
       "      <td>32</td>\n",
       "      <td>80</td>\n",
       "      <td>0</td>\n",
       "    </tr>\n",
       "    <tr>\n",
       "      <th>8</th>\n",
       "      <td>Divyanshu</td>\n",
       "      <td>62</td>\n",
       "      <td>2</td>\n",
       "      <td>1</td>\n",
       "      <td>56</td>\n",
       "      <td>60</td>\n",
       "      <td>1</td>\n",
       "    </tr>\n",
       "    <tr>\n",
       "      <th>9</th>\n",
       "      <td>Ashish</td>\n",
       "      <td>67</td>\n",
       "      <td>1</td>\n",
       "      <td>0</td>\n",
       "      <td>45</td>\n",
       "      <td>60</td>\n",
       "      <td>1</td>\n",
       "    </tr>\n",
       "  </tbody>\n",
       "</table>\n",
       "</div>"
      ],
      "text/plain": [
       "                NAME  PERCENTAGE  BACKLOG  INTERNSHIP  FIRSTROUND  \\\n",
       "0        Apaar Gupta          99        0           3          90   \n",
       "1      Aastha Khanna          92        0           3          68   \n",
       "2        Yogita Rana          84        3           2          69   \n",
       "3               Kush          67        2           2          23   \n",
       "4      Pulkit Mittal          57        0           2          78   \n",
       "5     Gaurav Gambhir          85        0           1          86   \n",
       "6         Shruti Jha          82        0           3          61   \n",
       "7  Ayush Vishwakarma          47        0           2          32   \n",
       "8          Divyanshu          62        2           1          56   \n",
       "9             Ashish          67        1           0          45   \n",
       "\n",
       "   COMMUNICATIONSKILLLS  Hired  \n",
       "0                   100      1  \n",
       "1                    80      1  \n",
       "2                    80      1  \n",
       "3                    60      0  \n",
       "4                    60      0  \n",
       "5                    80      1  \n",
       "6                   100      1  \n",
       "7                    80      0  \n",
       "8                    60      1  \n",
       "9                    60      1  "
      ]
     },
     "execution_count": 1,
     "metadata": {},
     "output_type": "execute_result"
    }
   ],
   "source": [
    "%matplotlib inline\n",
    "import numpy as np\n",
    "import pandas as pd\n",
    "\n",
    "df=pd.read_csv(\"PerpData - PerpData.csv\")\n",
    "df.head(10)"
   ]
  },
  {
   "cell_type": "code",
   "execution_count": 2,
   "metadata": {
    "collapsed": false,
    "deletable": true,
    "editable": true
   },
   "outputs": [],
   "source": [
    "x=df[['PERCENTAGE','BACKLOG','INTERNSHIP','FIRSTROUND','COMMUNICATIONSKILLLS']]\n",
    "y=df[['Hired']]"
   ]
  },
  {
   "cell_type": "code",
   "execution_count": 3,
   "metadata": {
    "collapsed": false,
    "deletable": true,
    "editable": true
   },
   "outputs": [],
   "source": [
    "from sklearn.model_selection import train_test_split\n",
    "from sklearn.linear_model import LinearRegression\n",
    "\n",
    "x_train,x_test,y_train,y_test=train_test_split(x,y,test_size=0.25,random_state=26)"
   ]
  },
  {
   "cell_type": "code",
   "execution_count": 4,
   "metadata": {
    "collapsed": false,
    "deletable": true,
    "editable": true
   },
   "outputs": [
    {
     "data": {
      "text/plain": [
       "LinearRegression(copy_X=True, fit_intercept=True, n_jobs=1, normalize=False)"
      ]
     },
     "execution_count": 4,
     "metadata": {},
     "output_type": "execute_result"
    }
   ],
   "source": [
    "model=LinearRegression()\n",
    "model.fit(x_train,y_train)"
   ]
  },
  {
   "cell_type": "code",
   "execution_count": 5,
   "metadata": {
    "collapsed": false,
    "deletable": true,
    "editable": true
   },
   "outputs": [
    {
     "name": "stdout",
     "output_type": "stream",
     "text": [
      "84\n"
     ]
    }
   ],
   "source": [
    "print(len(x_test))\n",
    "predictions=model.predict(x_test)"
   ]
  },
  {
   "cell_type": "code",
   "execution_count": 6,
   "metadata": {
    "collapsed": false,
    "deletable": true,
    "editable": true
   },
   "outputs": [
    {
     "name": "stdout",
     "output_type": "stream",
     "text": [
      "[[ 0.19980231]\n",
      " [ 0.66278322]\n",
      " [ 0.7905826 ]\n",
      " [ 1.01165774]\n",
      " [ 0.03901714]\n",
      " [-0.04252724]\n",
      " [ 0.39844322]\n",
      " [ 0.254512  ]\n",
      " [ 0.60301347]\n",
      " [ 0.30489934]\n",
      " [ 0.49701933]\n",
      " [ 0.7029998 ]\n",
      " [ 0.9512731 ]\n",
      " [ 0.80930677]\n",
      " [ 0.56546672]\n",
      " [ 0.46802024]\n",
      " [ 0.5632968 ]\n",
      " [ 0.19375049]\n",
      " [ 0.67189919]\n",
      " [ 0.59775862]\n",
      " [ 1.09355685]\n",
      " [ 0.7618771 ]\n",
      " [ 0.44443309]\n",
      " [ 0.54304375]\n",
      " [ 0.48564112]\n",
      " [ 0.69113086]\n",
      " [ 0.67256286]\n",
      " [ 0.52868269]\n",
      " [ 0.89611349]\n",
      " [ 0.91112451]\n",
      " [ 0.92791498]\n",
      " [ 0.61560535]\n",
      " [ 1.0229598 ]\n",
      " [ 0.78359965]\n",
      " [ 0.91831468]\n",
      " [ 0.630129  ]\n",
      " [ 0.24990821]\n",
      " [ 0.61254196]\n",
      " [ 0.74373612]\n",
      " [ 0.56550373]\n",
      " [ 0.74295534]\n",
      " [ 0.85122175]\n",
      " [ 0.84208319]\n",
      " [ 0.97268937]\n",
      " [ 0.91452983]\n",
      " [ 1.07353082]\n",
      " [ 0.67836267]\n",
      " [ 0.42473825]\n",
      " [ 0.77308768]\n",
      " [ 0.75021286]\n",
      " [ 0.82755541]\n",
      " [ 1.01820002]\n",
      " [ 0.45322881]\n",
      " [ 0.56754172]\n",
      " [ 0.52239176]\n",
      " [ 0.60131307]\n",
      " [ 1.23153972]\n",
      " [ 0.96714577]\n",
      " [ 0.79316211]\n",
      " [ 1.0099818 ]\n",
      " [ 0.08080098]\n",
      " [ 0.52441319]\n",
      " [ 0.5604385 ]\n",
      " [ 0.98899662]\n",
      " [ 1.20502705]\n",
      " [ 0.91112451]\n",
      " [ 1.00383993]\n",
      " [ 0.44821089]\n",
      " [ 0.03409483]\n",
      " [ 0.50518249]\n",
      " [ 0.37507747]\n",
      " [ 0.65857007]\n",
      " [ 0.57604125]\n",
      " [ 0.8735632 ]\n",
      " [ 0.4473887 ]\n",
      " [ 0.54956985]\n",
      " [ 0.23826286]\n",
      " [ 0.49918032]\n",
      " [ 0.82888185]\n",
      " [ 0.64215239]\n",
      " [ 0.4654699 ]\n",
      " [ 0.69548427]\n",
      " [ 0.43820816]\n",
      " [ 0.47691877]]\n"
     ]
    }
   ],
   "source": [
    "print(predictions)"
   ]
  },
  {
   "cell_type": "code",
   "execution_count": 7,
   "metadata": {
    "collapsed": false,
    "deletable": true,
    "editable": true
   },
   "outputs": [
    {
     "data": {
      "image/png": "[encoded data removed]",
      "text/plain": [
       "<matplotlib.figure.Figure at 0x15fc1cd4198>"
      ]
     },
     "metadata": {},
     "output_type": "display_data"
    }
   ],
   "source": [
    "import seaborn as sb\n",
    "import matplotlib.pyplot as py\n",
    "sb.distplot(y_test-predictions)\n",
    "py.show()"
   ]
  },
  {
   "cell_type": "code",
   "execution_count": 11,
   "metadata": {
    "collapsed": false,
    "deletable": true,
    "editable": true
   },
   "outputs": [
    {
     "data": {
      "text/plain": [
       "array([[ 0.97807705]])"
      ]
     },
     "execution_count": 11,
     "metadata": {},
     "output_type": "execute_result"
    }
   ],
   "source": [
    "model.predict(np.array([90,1,3,80,100]).reshape(1,-1))"
   ]
  },
  {
   "cell_type": "code",
   "execution_count": 12,
   "metadata": {
    "collapsed": false
   },
   "outputs": [
    {
     "data": {
      "text/plain": [
       "array([[-0.17713105]])"
      ]
     },
     "execution_count": 12,
     "metadata": {},
     "output_type": "execute_result"
    }
   ],
   "source": [
    "model.predict(np.array([40,4,0,50,60]).reshape(1,-1))"
   ]
  }
 ],
 "metadata": {
  "kernelspec": {
   "display_name": "Python 3",
   "language": "python",
   "name": "python3"
  },
  "language_info": {
   "codemirror_mode": {
    "name": "ipython",
    "version": 3
   },
   "file_extension": ".py",
   "mimetype": "text/x-python",
   "name": "python",
   "nbconvert_exporter": "python",
   "pygments_lexer": "ipython3",
   "version": "3.5.2"
  }
 },
 "nbformat": 4,
 "nbformat_minor": 2
}
